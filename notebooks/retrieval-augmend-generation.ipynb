{
 "cells": [
  {
   "cell_type": "code",
   "execution_count": 1,
   "metadata": {},
   "outputs": [],
   "source": [
    "import pandas as pd"
   ]
  },
  {
   "cell_type": "code",
   "execution_count": 3,
   "metadata": {},
   "outputs": [
    {
     "data": {
      "text/html": [
       "<div>\n",
       "<style scoped>\n",
       "    .dataframe tbody tr th:only-of-type {\n",
       "        vertical-align: middle;\n",
       "    }\n",
       "\n",
       "    .dataframe tbody tr th {\n",
       "        vertical-align: top;\n",
       "    }\n",
       "\n",
       "    .dataframe thead th {\n",
       "        text-align: right;\n",
       "    }\n",
       "</style>\n",
       "<table border=\"1\" class=\"dataframe\">\n",
       "  <thead>\n",
       "    <tr style=\"text-align: right;\">\n",
       "      <th></th>\n",
       "      <th>name</th>\n",
       "      <th>region</th>\n",
       "      <th>variety</th>\n",
       "      <th>rating</th>\n",
       "      <th>notes</th>\n",
       "    </tr>\n",
       "  </thead>\n",
       "  <tbody>\n",
       "    <tr>\n",
       "      <th>0</th>\n",
       "      <td>3 Rings Reserve Shiraz 2004</td>\n",
       "      <td>Barossa Valley, Barossa, South Australia, Aust...</td>\n",
       "      <td>Red Wine</td>\n",
       "      <td>96.0</td>\n",
       "      <td>Vintage Comments : Classic Barossa vintage con...</td>\n",
       "    </tr>\n",
       "    <tr>\n",
       "      <th>1</th>\n",
       "      <td>Abreu Vineyards Cappella 2007</td>\n",
       "      <td>Napa Valley, California</td>\n",
       "      <td>Red Wine</td>\n",
       "      <td>96.0</td>\n",
       "      <td>Cappella is a proprietary blend of two clones ...</td>\n",
       "    </tr>\n",
       "    <tr>\n",
       "      <th>2</th>\n",
       "      <td>Abreu Vineyards Cappella 2010</td>\n",
       "      <td>Napa Valley, California</td>\n",
       "      <td>Red Wine</td>\n",
       "      <td>98.0</td>\n",
       "      <td>Cappella is one of the oldest vineyard sites i...</td>\n",
       "    </tr>\n",
       "    <tr>\n",
       "      <th>3</th>\n",
       "      <td>Abreu Vineyards Howell Mountain 2008</td>\n",
       "      <td>Howell Mountain, Napa Valley, California</td>\n",
       "      <td>Red Wine</td>\n",
       "      <td>96.0</td>\n",
       "      <td>When David purchased this Howell Mountain prop...</td>\n",
       "    </tr>\n",
       "    <tr>\n",
       "      <th>4</th>\n",
       "      <td>Abreu Vineyards Howell Mountain 2009</td>\n",
       "      <td>Howell Mountain, Napa Valley, California</td>\n",
       "      <td>Red Wine</td>\n",
       "      <td>98.0</td>\n",
       "      <td>As a set of wines, it is hard to surpass the f...</td>\n",
       "    </tr>\n",
       "    <tr>\n",
       "      <th>...</th>\n",
       "      <td>...</td>\n",
       "      <td>...</td>\n",
       "      <td>...</td>\n",
       "      <td>...</td>\n",
       "      <td>...</td>\n",
       "    </tr>\n",
       "    <tr>\n",
       "      <th>1360</th>\n",
       "      <td>Lewis Cellars Alec's Blend Red 2002</td>\n",
       "      <td>Napa Valley, California</td>\n",
       "      <td>Red Wine</td>\n",
       "      <td>96.0</td>\n",
       "      <td>Number 12 on</td>\n",
       "    </tr>\n",
       "    <tr>\n",
       "      <th>1361</th>\n",
       "      <td>Lewis Cellars Cabernet Sauvignon 2002</td>\n",
       "      <td>Napa Valley, California</td>\n",
       "      <td>Red Wine</td>\n",
       "      <td>96.0</td>\n",
       "      <td>Showcasing the unique personalities of small h...</td>\n",
       "    </tr>\n",
       "    <tr>\n",
       "      <th>1362</th>\n",
       "      <td>Lewis Cellars Cuvee L Cabernet Sauvignon 2015</td>\n",
       "      <td>Napa Valley, California</td>\n",
       "      <td>Red Wine</td>\n",
       "      <td>96.0</td>\n",
       "      <td>Straight from James Fenimore Cooper’s novel, L...</td>\n",
       "    </tr>\n",
       "    <tr>\n",
       "      <th>1363</th>\n",
       "      <td>Lewis Cellars Reserve Cabernet Sauvignon 2010</td>\n",
       "      <td>Napa Valley, California</td>\n",
       "      <td>Red Wine</td>\n",
       "      <td>96.0</td>\n",
       "      <td></td>\n",
       "    </tr>\n",
       "    <tr>\n",
       "      <th>1364</th>\n",
       "      <td>Lewis Cellars Reserve Cabernet Sauvignon (scuf...</td>\n",
       "      <td>Napa Valley, California</td>\n",
       "      <td>Red Wine</td>\n",
       "      <td>96.0</td>\n",
       "      <td>The headline reads: \"2012 Reserve Cabernet - R...</td>\n",
       "    </tr>\n",
       "  </tbody>\n",
       "</table>\n",
       "<p>1365 rows × 5 columns</p>\n",
       "</div>"
      ],
      "text/plain": [
       "                                                   name  \\\n",
       "0                           3 Rings Reserve Shiraz 2004   \n",
       "1                         Abreu Vineyards Cappella 2007   \n",
       "2                         Abreu Vineyards Cappella 2010   \n",
       "3                  Abreu Vineyards Howell Mountain 2008   \n",
       "4                  Abreu Vineyards Howell Mountain 2009   \n",
       "...                                                 ...   \n",
       "1360                Lewis Cellars Alec's Blend Red 2002   \n",
       "1361              Lewis Cellars Cabernet Sauvignon 2002   \n",
       "1362      Lewis Cellars Cuvee L Cabernet Sauvignon 2015   \n",
       "1363      Lewis Cellars Reserve Cabernet Sauvignon 2010   \n",
       "1364  Lewis Cellars Reserve Cabernet Sauvignon (scuf...   \n",
       "\n",
       "                                                 region   variety  rating  \\\n",
       "0     Barossa Valley, Barossa, South Australia, Aust...  Red Wine    96.0   \n",
       "1                               Napa Valley, California  Red Wine    96.0   \n",
       "2                               Napa Valley, California  Red Wine    98.0   \n",
       "3              Howell Mountain, Napa Valley, California  Red Wine    96.0   \n",
       "4              Howell Mountain, Napa Valley, California  Red Wine    98.0   \n",
       "...                                                 ...       ...     ...   \n",
       "1360                            Napa Valley, California  Red Wine    96.0   \n",
       "1361                            Napa Valley, California  Red Wine    96.0   \n",
       "1362                            Napa Valley, California  Red Wine    96.0   \n",
       "1363                            Napa Valley, California  Red Wine    96.0   \n",
       "1364                            Napa Valley, California  Red Wine    96.0   \n",
       "\n",
       "                                                  notes  \n",
       "0     Vintage Comments : Classic Barossa vintage con...  \n",
       "1     Cappella is a proprietary blend of two clones ...  \n",
       "2     Cappella is one of the oldest vineyard sites i...  \n",
       "3     When David purchased this Howell Mountain prop...  \n",
       "4     As a set of wines, it is hard to surpass the f...  \n",
       "...                                                 ...  \n",
       "1360                                      Number 12 on   \n",
       "1361  Showcasing the unique personalities of small h...  \n",
       "1362  Straight from James Fenimore Cooper’s novel, L...  \n",
       "1363                                                     \n",
       "1364  The headline reads: \"2012 Reserve Cabernet - R...  \n",
       "\n",
       "[1365 rows x 5 columns]"
      ]
     },
     "metadata": {},
     "output_type": "display_data"
    }
   ],
   "source": [
    "#file_path = '../data/laptop_prices.csv'\n",
    "#collection_name = \"laptop_prices\"\n",
    "\n",
    "file_path = '../data/top_rated_wines.csv'\n",
    "collection_name = \"notes\"\n",
    "\n",
    "\n",
    "df = pd.read_csv(file_path)\n",
    "display(df)"
   ]
  },
  {
   "cell_type": "code",
   "execution_count": 4,
   "metadata": {},
   "outputs": [
    {
     "data": {
      "text/plain": [
       "1365"
      ]
     },
     "execution_count": 4,
     "metadata": {},
     "output_type": "execute_result"
    }
   ],
   "source": [
    "data = df.to_dict('records')\n",
    "len(data)"
   ]
  },
  {
   "cell_type": "code",
   "execution_count": 5,
   "metadata": {},
   "outputs": [
    {
     "name": "stderr",
     "output_type": "stream",
     "text": [
      "/usr/local/python/3.12.1/lib/python3.12/site-packages/sentence_transformers/cross_encoder/CrossEncoder.py:13: TqdmExperimentalWarning: Using `tqdm.autonotebook.tqdm` in notebook mode. Use `tqdm.tqdm` instead to force console mode (e.g. in jupyter console)\n",
      "  from tqdm.autonotebook import tqdm, trange\n"
     ]
    }
   ],
   "source": [
    "from qdrant_client import models, QdrantClient\n",
    "from sentence_transformers import SentenceTransformer"
   ]
  },
  {
   "cell_type": "code",
   "execution_count": 6,
   "metadata": {},
   "outputs": [
    {
     "name": "stderr",
     "output_type": "stream",
     "text": [
      "/usr/local/python/3.12.1/lib/python3.12/site-packages/transformers/tokenization_utils_base.py:1617: FutureWarning: `clean_up_tokenization_spaces` was not set. It will be set to `True` by default. This behavior will be deprecated in transformers v4.45, and will be then set to `False` by default. For more details check this issue: https://github.com/huggingface/transformers/issues/31884\n",
      "  warnings.warn(\n"
     ]
    }
   ],
   "source": [
    "encoder = SentenceTransformer('all-MiniLM-L6-v2') # Model to create embeddings"
   ]
  },
  {
   "cell_type": "code",
   "execution_count": 7,
   "metadata": {},
   "outputs": [],
   "source": [
    "# create the vector database client\n",
    "qdrant = QdrantClient(\":memory:\") # Create in-memory Qdrant instance"
   ]
  },
  {
   "cell_type": "code",
   "execution_count": 8,
   "metadata": {},
   "outputs": [
    {
     "name": "stderr",
     "output_type": "stream",
     "text": [
      "/tmp/ipykernel_54801/1320749565.py:2: DeprecationWarning: `recreate_collection` method is deprecated and will be removed in the future. Use `collection_exists` to check collection existence and `create_collection` instead.\n",
      "  qdrant.recreate_collection(\n"
     ]
    },
    {
     "data": {
      "text/plain": [
       "True"
      ]
     },
     "execution_count": 8,
     "metadata": {},
     "output_type": "execute_result"
    }
   ],
   "source": [
    "# Create collection to store wines\n",
    "qdrant.recreate_collection(\n",
    "    collection_name=collection_name,\n",
    "    vectors_config=models.VectorParams(\n",
    "        size=encoder.get_sentence_embedding_dimension(), # Vector size is defined by used model\n",
    "        distance=models.Distance.COSINE\n",
    "    )\n",
    ")"
   ]
  },
  {
   "cell_type": "code",
   "execution_count": 9,
   "metadata": {},
   "outputs": [],
   "source": [
    "# vectorize!\n",
    "qdrant.upload_points(\n",
    "    collection_name=collection_name,\n",
    "    points=[\n",
    "        models.PointStruct(\n",
    "            id=idx,\n",
    "            #vector=encoder.encode(doc[\"Product\"]).tolist(),\n",
    "            vector=encoder.encode(doc[\"notes\"]).tolist(),\n",
    "            payload=doc,\n",
    "        ) for idx, doc in enumerate(data) # data is the variable holding all the wines\n",
    "    ]\n",
    ")"
   ]
  },
  {
   "cell_type": "code",
   "execution_count": 10,
   "metadata": {},
   "outputs": [],
   "source": [
    "#user_prompt = \"Suggest me hight performace laptops to use at work as a civil engineer\"\n",
    "user_prompt = \"Suggest me an amazing Malbec wine from Argentina\""
   ]
  },
  {
   "cell_type": "code",
   "execution_count": 11,
   "metadata": {},
   "outputs": [
    {
     "name": "stdout",
     "output_type": "stream",
     "text": [
      "{'name': 'Catena Zapata Argentino Vineyard Malbec 2004', 'region': 'Argentina', 'variety': 'Red Wine', 'rating': 98.0, 'notes': '\"The single-vineyard 2004 Malbec Argentino Vineyard spent 17 months in new French oak. Remarkably fragrant and complex aromatically, it offers up aromas of wood smoke, creosote, pepper, clove, black cherry, and blackberry. Made in a similar, elegant style, it is the most structured of the three single vineyard wines, needing a minimum of a decade of additional cellaring. It should easily prove to be a 25-40 year wine. It is an exceptional achievement in Malbec. When all is said and done, Catena Zapata is the Argentina winery of reference – the standard of excellence for comparing all others. The brilliant, forward-thinking Nicolas Catena remains in charge, with his daughter, Laura, playing an increasingly large role. The Catena Zapata winery is an essential destination for fans of both architecture and wine in Mendoza. It is hard to believe, given the surge in popularity of Malbec in recent years, that Catena Zapata only began exporting Malbec to the United States in 1994.\"'} score: 0.6377781805604672\n",
      "{'name': 'Bodega Colome Altura Maxima Malbec 2012', 'region': 'Salta, Argentina', 'variety': 'Red Wine', 'rating': 96.0, 'notes': 'Winemaker Thibaut Delmotte has crafted wines of distinction and international acclaim for Colome. He believes the Malbec from Altura Maxima Vineyard is the embodiment of two extremes - a traditional grape variety from his French origins made from the vineyard that challenges all convention in the modern viticultural world.'} score: 0.617968132852833\n",
      "{'name': 'Catena Zapata Adrianna Vineyard Malbec 2004', 'region': 'Argentina', 'variety': 'Red Wine', 'rating': 97.0, 'notes': '\"The single-vineyard 2004 Malbec Adrianna Vineyard from the Gualtallary district is inky purple with aromas of wood smoke, pencil lead, game, black cherry, and blackberry liqueur. Opulent, full-flavored, yet remarkably light on its feet, this medium to full-bodied Malbec is all about pleasure. It will certainly evolve for a decade but is hard to resist now. It is a fine test of one\\'s ability to defer immediate gratification. When all is said and done, Catena Zapata is the Argentina winery of reference – the standard of excellence for comparing all others. The brilliant, forward-thinking Nicolas Catena remains in charge, with his daughter, Laura, playing an increasingly large role. The Catena Zapata winery is an essential destination for fans of both architecture and wine in Mendoza. It is hard to believe, given the surge in popularity of Malbec in recent years, that Catena Zapata only began exporting Malbec to the United States in 1994.\"'} score: 0.6117573320480143\n",
      "{'name': 'Catena Zapata Nicasia Vineyard Malbec 2004', 'region': 'Argentina', 'variety': 'Red Wine', 'rating': 96.0, 'notes': '\"The single-vineyard 2004 Malbec Nicasia Vineyard is located in the Altamira district of Mendoza. It was aged for 18 months in new French oak. Opaque purple-colored, it exhibits a complex perfume of pain grille, scorched earth, mineral, licorice, blueberry, and black cherry. Thick on the palate, bordering on opulent, it has layers of fruit, silky tannins, and a long, fruit-filled finish. It will age effortlessly for another 6-8 years and provide pleasure through 2025. When all is said and done, Catena Zapata is the Argentina winery of reference – the standard of excellence for comparing all others. The brilliant, forward-thinking Nicolas Catena remains in charge, with his daughter, Laura, playing an increasingly large role. The Catena Zapata winery is an essential destination for fans of both architecture and wine in Mendoza. It is hard to believe, given the surge in popularity of Malbec in recent years, that Catena Zapata only began exporting Malbec to the United States in 1994.\"'} score: 0.6112810822730711\n",
      "{'name': 'Altos las Hormigas Gualtallary Malbec 2017', 'region': 'Uco Valley, Mendoza, Argentina', 'variety': 'Red Wine', 'rating': 96.0, 'notes': 'A solid violet red color reveals a dense, concentrated, compact wine. Notes of spices and minerality make a complex nose. On the palate, a supple entry, dark berries and spices. A very structured and quite wild Malbec, with firm fine-grain tannins, showing its calcareous foundations and columns. The mouth feel is full of thrilling freshness and balance, with a long and persistent finish.'} score: 0.6056131684237814\n"
     ]
    }
   ],
   "source": [
    "# Search time for awesome wines!\n",
    "\n",
    "hits = qdrant.search(\n",
    "    collection_name=collection_name,\n",
    "    query_vector=encoder.encode(user_prompt).tolist(),\n",
    "    limit=5\n",
    ")\n",
    "for hit in hits:\n",
    "  print(hit.payload, \"score:\", hit.score)"
   ]
  },
  {
   "cell_type": "code",
   "execution_count": 12,
   "metadata": {},
   "outputs": [],
   "source": [
    "# define a variable to hold the search results\n",
    "search_results = [hit.payload for hit in hits]"
   ]
  },
  {
   "cell_type": "code",
   "execution_count": 13,
   "metadata": {},
   "outputs": [
    {
     "name": "stdout",
     "output_type": "stream",
     "text": [
      "ChatCompletionMessage(content='Sure, here are some other amazing Malbec wines from Argentina:\\n1. Bodega Colome Altura Maxima Malbec 2012\\n2. Catena Zapata Adrianna Vineyard Malbec 2004\\n3. Catena Zapata Nicasia Vineyard Malbec 2004\\n4. Altos las Hormigas Gualtallary Malbec 2017\\nAll of these wines are highly recommended and are available in the US.</s>', refusal=None, role='assistant', function_call=None, tool_calls=None)\n"
     ]
    }
   ],
   "source": [
    "# Now time to connect to the local large language model\n",
    "from openai import OpenAI\n",
    "client = OpenAI(\n",
    "    base_url=\"http://127.0.0.1:8080/v1\", # \"http://<Your api-server IP>:port\"\n",
    "    api_key = \"sk-no-key-required\"\n",
    ")\n",
    "completion = client.chat.completions.create(\n",
    "    model=\"LLaMA_CPP\",\n",
    "    messages=[\n",
    "        #{\"role\": \"system\", \"content\": \"You are chatbot, a laptop specialist. Your top priority is to help guide users into selecting amazing laptops and guide them with their requests.\"},\n",
    "        #{\"role\": \"user\", \"content\": \"Suggest me a hight performance laptop to use at work as a civil engineer\"},\n",
    "        {\"role\": \"system\", \"content\": \"You are chatbot, a wine specialist. Your top priority is to help guide users into selecting amazing wine and guide them with their requests.\"},\n",
    "        {\"role\": \"user\", \"content\": \"Suggest me an amazing Malbec wine from Argentina\"},\n",
    "        {\"role\": \"assistant\", \"content\": str(search_results)}\n",
    "    ]\n",
    ")\n",
    "print(completion.choices[0].message)"
   ]
  }
 ],
 "metadata": {
  "kernelspec": {
   "display_name": "Python 3",
   "language": "python",
   "name": "python3"
  },
  "language_info": {
   "codemirror_mode": {
    "name": "ipython",
    "version": 3
   },
   "file_extension": ".py",
   "mimetype": "text/x-python",
   "name": "python",
   "nbconvert_exporter": "python",
   "pygments_lexer": "ipython3",
   "version": "3.12.1"
  }
 },
 "nbformat": 4,
 "nbformat_minor": 2
}
